{
 "cells": [
  {
   "cell_type": "markdown",
   "metadata": {},
   "source": [
    "LabeledVector(0.0, DenseVector(0.0012, -2.0E-4, 0.722891566265067, 0.663396555482886, 0.800641458474005, 1.0, 0.212560386473422, 0.530303030303009))"
   ]
  },
  {
   "cell_type": "code",
   "execution_count": 3,
   "metadata": {
    "collapsed": true
   },
   "outputs": [],
   "source": [
    "from time import time\n",
    "from scipy import sparse\n",
    "from scipy import linalg\n",
    "\n",
    "from sklearn.datasets.samples_generator import make_regression\n",
    "from sklearn.linear_model import Lasso\n"
   ]
  },
  {
   "cell_type": "code",
   "execution_count": 4,
   "metadata": {
    "collapsed": false
   },
   "outputs": [],
   "source": [
    "X, y,ws = make_regression(n_samples=160359, n_features=7, random_state=0,coef=True)\n"
   ]
  },
  {
   "cell_type": "code",
   "execution_count": 22,
   "metadata": {
    "collapsed": false
   },
   "outputs": [
    {
     "name": "stdout",
     "output_type": "stream",
     "text": [
      "[ 67.72030453  27.99451787  46.83316669   4.063404    78.03595907\n",
      "  74.55332082  56.55588372]\n"
     ]
    }
   ],
   "source": [
    "print(ws)"
   ]
  },
  {
   "cell_type": "code",
   "execution_count": 29,
   "metadata": {
    "collapsed": false
   },
   "outputs": [],
   "source": [
    "with open('ALSTest.csv',\"w\") as f:\n",
    "    for x,sy in zip(X,y):  \n",
    "        line = \"LabeledVector(\"+str(sy)+\", DenseVector(\"+\", \".join(str(s) for s in x)+\"))\"\n",
    "        #print(line)\n",
    "        f.write(line+\"\\n\")"
   ]
  },
  {
   "cell_type": "code",
   "execution_count": 20,
   "metadata": {
    "collapsed": false
   },
   "outputs": [
    {
     "name": "stdout",
     "output_type": "stream",
     "text": [
      "/media/zhanwang/data/data/lab/flink_t1/Online_FlinkML_Notes/proteus-solma-development/src/main/resources\r\n"
     ]
    }
   ],
   "source": [
    "!pwd"
   ]
  },
  {
   "cell_type": "code",
   "execution_count": null,
   "metadata": {
    "collapsed": true
   },
   "outputs": [],
   "source": [
    "Right((WeightVector(DenseVector(96.68812577807105, 81.38285091205456, 99.97901751995805, 96.8509830269779, 83.23526316636055, 24.567420177941294, 38.6741822683018),-0.10012557740802042),160000))\n"
   ]
  },
  {
   "cell_type": "code",
   "execution_count": 30,
   "metadata": {
    "collapsed": false
   },
   "outputs": [
    {
     "name": "stdout",
     "output_type": "stream",
     "text": [
      "[ 95.93682563  81.36320504  99.69353341  96.89617769  82.76867694\n",
      "  24.6767779   38.84999277]\n"
     ]
    }
   ],
   "source": [
    "print(ws)"
   ]
  },
  {
   "cell_type": "code",
   "execution_count": null,
   "metadata": {
    "collapsed": true
   },
   "outputs": [],
   "source": [
    "import numpy as np\n",
    "from sklearn.linear_model import LinearRegression\n",
    "\n",
    "# make some data:\n",
    "x1 = np.array(np.random.rand(5))\n",
    "x2 = np.array(np.random.rand(5))\n",
    "# stack together - to use as input\n",
    "x = np.column_stack((x1,x2))\n",
    "# create targets TRUE relationship\n",
    "y = np.array(2*x1 - 0.5*x2)\n",
    "\n",
    "# create & fit model...\n",
    "k = LinearRegression()\n",
    "k.fit(x,y)\n",
    "\n",
    "# show the fitted weights\n",
    "print(k.coef_)\n",
    "\n",
    "# change weights to be 0 for nonzeros...\n",
    "k.coef_ = [np.max([c,0]) for c in k.coef_]\n",
    "\n",
    "# show new weights:\n",
    "print(k.coef_)"
   ]
  },
  {
   "cell_type": "code",
   "execution_count": 5,
   "metadata": {
    "collapsed": false
   },
   "outputs": [
    {
     "data": {
      "text/plain": [
       "Ridge(alpha=1.0, copy_X=True, fit_intercept=True, max_iter=None,\n",
       "   normalize=False, random_state=None, solver='auto', tol=0.001)"
      ]
     },
     "execution_count": 5,
     "metadata": {},
     "output_type": "execute_result"
    }
   ],
   "source": [
    "from sklearn.linear_model import Ridge\n",
    "import numpy as np\n",
    "n_samples, n_features = 10, 5\n",
    "np.random.seed(0)\n",
    "#y = np.random.randn(n_samples)\n",
    "#X = np.random.randn(n_samples, n_features)\n",
    "clf = Ridge(alpha=1.0)\n",
    "clf.fit(X, y) "
   ]
  },
  {
   "cell_type": "code",
   "execution_count": 7,
   "metadata": {
    "collapsed": false
   },
   "outputs": [
    {
     "name": "stdout",
     "output_type": "stream",
     "text": [
      "[ 95.93682563  81.36320504  99.69353341  96.89617769  82.76867694\n",
      "  24.6767779   38.84999277]\n"
     ]
    }
   ],
   "source": [
    "print(ws)"
   ]
  },
  {
   "cell_type": "code",
   "execution_count": 6,
   "metadata": {
    "collapsed": false
   },
   "outputs": [
    {
     "data": {
      "text/plain": [
       "array([ 95.93623082,  81.36269986,  99.6929129 ,  96.8955718 ,\n",
       "        82.76816296,  24.67662343,  38.84974842])"
      ]
     },
     "execution_count": 6,
     "metadata": {},
     "output_type": "execute_result"
    }
   ],
   "source": [
    "clf.coef_"
   ]
  },
  {
   "cell_type": "code",
   "execution_count": 8,
   "metadata": {
    "collapsed": true
   },
   "outputs": [],
   "source": [
    "clf.coef_=ws"
   ]
  },
  {
   "cell_type": "code",
   "execution_count": 16,
   "metadata": {
    "collapsed": false
   },
   "outputs": [],
   "source": [
    "import numpy\n",
    "clf.coef_=numpy.array([93.85995436365121, 75.8740922439522, 93.14740962115546, 82.05427636470665, 82.43138497344309, 18.763337972952787, 27.21616398926061])"
   ]
  },
  {
   "cell_type": "code",
   "execution_count": 17,
   "metadata": {
    "collapsed": false
   },
   "outputs": [
    {
     "data": {
      "text/plain": [
       "0.98944003074990428"
      ]
     },
     "execution_count": 17,
     "metadata": {},
     "output_type": "execute_result"
    }
   ],
   "source": [
    "clf.score(X, y) "
   ]
  },
  {
   "cell_type": "markdown",
   "metadata": {},
   "source": [
    "SVM test"
   ]
  },
  {
   "cell_type": "code",
   "execution_count": 76,
   "metadata": {
    "collapsed": false
   },
   "outputs": [
    {
     "name": "stdout",
     "output_type": "stream",
     "text": [
      "[-0.5418828  -0.1583453   0.47245759 -1.03680952  0.98543622  1.45428621\n",
      "  0.81352903]\n",
      "2\n",
      "1.0\n",
      "[ 0.61029834 -0.88088225  0.27912946 -1.3320245   1.1648621   0.61586759\n",
      "  1.60230419]\n",
      "2\n",
      "1.0\n",
      "[ 0.73639273  2.17786863  1.16208772 -0.27235225  0.5902821   0.2617649\n",
      " -1.61158739]\n",
      "2\n",
      "1.0\n",
      "[-0.09306684  1.20473012 -0.68008036  0.12903748  0.05431163  0.3108896\n",
      " -1.07581235]\n",
      "2\n",
      "-1.0\n",
      "[-1.03124224  1.27217687  0.17904309 -1.12234052  1.28229471  1.40284217\n",
      " -0.30656417]\n",
      "2\n",
      "1.0\n"
     ]
    }
   ],
   "source": [
    "import string\n",
    "count = 0\n",
    "with open('SVM_resultWeights.24.12.txt',\"r\") as f:\n",
    "    for line in f:  \n",
    "        #print(line)\n",
    "        row = str(line)\n",
    "        if str(line).startswith('Left((LabeledVector('):\n",
    "            row = str(line)\n",
    "            row = row.replace('Left((LabeledVector(',\"\")\n",
    "            rs = row.split(\",\",1)\n",
    "            y = rs[0]\n",
    "            x=rs[1]\n",
    "            x=x.replace(\"DenseVector(\",\"\")\n",
    "            x=x.split(\")),\",1)[0]\n",
    "            print(np.array(x.split(\",\"), dtype=np.float))\n",
    "            print(len(row.split(\",\",1)))\n",
    "            print(y)\n",
    "            \n",
    "        count+=1\n",
    "        if count>4:\n",
    "            break\n",
    "        \n"
   ]
  },
  {
   "cell_type": "code",
   "execution_count": 6,
   "metadata": {
    "collapsed": true
   },
   "outputs": [],
   "source": [
    "from sklearn.svm import LinearSVC\n",
    "from sklearn.datasets import make_classification\n",
    "X, y = make_classification(n_samples=160359, n_features=7, random_state=0)\n",
    "X.shape\n",
    "from sklearn.svm import LinearSVC\n",
    "from sklearn.datasets import make_classification"
   ]
  },
  {
   "cell_type": "code",
   "execution_count": 9,
   "metadata": {
    "collapsed": false
   },
   "outputs": [
    {
     "data": {
      "text/plain": [
       "LinearSVC(C=1.0, class_weight=None, dual=True, fit_intercept=True,\n",
       "     intercept_scaling=1, loss='squared_hinge', max_iter=1000,\n",
       "     multi_class='ovr', penalty='l2', random_state=0, tol=0.0001,\n",
       "     verbose=0)"
      ]
     },
     "execution_count": 9,
     "metadata": {},
     "output_type": "execute_result"
    }
   ],
   "source": [
    "n_samples=160359\n",
    "clf = LinearSVC(random_state=0)\n",
    "clf.fit(X[:64996], y[:64996])"
   ]
  },
  {
   "cell_type": "code",
   "execution_count": 10,
   "metadata": {
    "collapsed": false
   },
   "outputs": [
    {
     "data": {
      "text/plain": [
       "0.85741849564296424"
      ]
     },
     "execution_count": 10,
     "metadata": {},
     "output_type": "execute_result"
    }
   ],
   "source": [
    "clf.score(X[64996:], y[64996:])"
   ]
  },
  {
   "cell_type": "code",
   "execution_count": 79,
   "metadata": {
    "collapsed": false
   },
   "outputs": [
    {
     "data": {
      "text/plain": [
       "LinearSVC(C=1.0, class_weight=None, dual=True, fit_intercept=True,\n",
       "     intercept_scaling=1, loss='squared_hinge', max_iter=1000,\n",
       "     multi_class='ovr', penalty='l2', random_state=0, tol=0.0001,\n",
       "     verbose=0)"
      ]
     },
     "execution_count": 79,
     "metadata": {},
     "output_type": "execute_result"
    }
   ],
   "source": [
    "from sklearn.svm import LinearSVC\n",
    "from sklearn.datasets import make_classification\n",
    "X, y = make_classification(n_samples=160359, n_features=7, random_state=0)\n",
    "X.shape\n",
    "from sklearn.svm import LinearSVC\n",
    "from sklearn.datasets import make_classification\n",
    "#X, y = make_classification(n_features=4, random_state=0)\n",
    "clf = LinearSVC(random_state=0)\n",
    "clf.fit(X, y)\n",
    "\n"
   ]
  },
  {
   "cell_type": "code",
   "execution_count": 122,
   "metadata": {
    "collapsed": false,
    "scrolled": true
   },
   "outputs": [
    {
     "name": "stdout",
     "output_type": "stream",
     "text": [
      "accuracy: 63.8531601944735%\n",
      "Num of testdata: 64996\n"
     ]
    }
   ],
   "source": [
    "import string\n",
    "count = 0 \n",
    "correct = 0\n",
    "with open('SVM_resultWeights.24.12.txt',\"r\") as f:\n",
    "    for line in f:  \n",
    "        #print(line)\n",
    "        row = str(line)\n",
    "        if str(line).startswith('Left((LabeledVector('):\n",
    "            row = str(line)\n",
    "            row = row.replace('Left((LabeledVector(',\"\")\n",
    "            rs = row.split(\",\",1)\n",
    "            y = rs[0]\n",
    "            x=rs[1]\n",
    "            x=x.replace(\"DenseVector(\",\"\")\n",
    "            x=x.split(\")),\",1)[0]\n",
    "            x = np.array(x.split(\",\"), dtype=np.float)\n",
    "            x = x.reshape(1, -1)\n",
    "            #print(x)\n",
    "            #print(len(row.split(\",\",1)))\n",
    "            #print(y)\n",
    "            #print(x.shape)\n",
    "            ypred = clf.predict(x)\n",
    "            \n",
    "            y=y.strip()\n",
    "            #print(y)\n",
    "            y=float(y)\n",
    "            y=int(y)\n",
    "            if ypred[0]==0:\n",
    "                ypred=-1\n",
    "            else:\n",
    "                ypred=1\n",
    "                \n",
    "            \n",
    "            #print(type(y))\n",
    "            #print(type(ypred))\n",
    "            if y==ypred:\n",
    "                correct +=1\n",
    "                #print(\"y:{} ypred:{} correct:{}\".format(y,ypred,correct))\n",
    "    \n",
    "        count+=1\n",
    "        #if count>100:\n",
    "        #   break\n",
    "print(\"accuracy: {}%\".format(1.0 * correct / count *100))\n",
    "print(\"Num of testdata: {}\".format(count))\n",
    "#for xs ,ys in zip(X,y):\n",
    "#    for xts, yts in zip(xt,yt):"
   ]
  }
 ],
 "metadata": {
  "kernelspec": {
   "display_name": "Python 3",
   "language": "python",
   "name": "python3"
  },
  "language_info": {
   "codemirror_mode": {
    "name": "ipython",
    "version": 3
   },
   "file_extension": ".py",
   "mimetype": "text/x-python",
   "name": "python",
   "nbconvert_exporter": "python",
   "pygments_lexer": "ipython3",
   "version": "3.6.0"
  }
 },
 "nbformat": 4,
 "nbformat_minor": 2
}
